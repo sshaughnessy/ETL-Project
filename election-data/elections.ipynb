{
 "cells": [
  {
   "cell_type": "code",
   "execution_count": 1,
   "source": [
    "import  pandas as pd"
   ],
   "outputs": [],
   "metadata": {}
  },
  {
   "cell_type": "code",
   "execution_count": 2,
   "source": [
    "file10 = \"csv-origins/GE2010_byCounty.csv\"\n",
    "file14 = \"csv-origins/GE2014_byCounty.csv\"\n",
    "file18 = \"csv-origins/GE2018_byCounty.csv\"\n",
    "ge10 = pd.read_csv(file10)\n",
    "ge14 = pd.read_csv(file14)\n",
    "ge18 = pd.read_csv(file18)"
   ],
   "outputs": [],
   "metadata": {}
  },
  {
   "cell_type": "markdown",
   "source": [
    "# Cleaning 2010 Results"
   ],
   "metadata": {}
  },
  {
   "cell_type": "code",
   "execution_count": 3,
   "source": [
    "k10, n10 = ge10.keys(), ge10.size"
   ],
   "outputs": [],
   "metadata": {}
  },
  {
   "cell_type": "code",
   "execution_count": 4,
   "source": [
    "#check out the value counts for each column\n",
    "valno10 = dict.fromkeys(k10)\n",
    "for k in k10:\n",
    "    valno10[k] = getattr(ge10,k).value_counts()"
   ],
   "outputs": [],
   "metadata": {}
  },
  {
   "cell_type": "code",
   "execution_count": 5,
   "source": [
    "#these columns are not useful\n",
    "dropvar10 = [\"CanAffilCommit\", \"Election\", \"VoteFor\", \"PartyAbbrev\",\"OfficeSequence\"]"
   ],
   "outputs": [],
   "metadata": {}
  },
  {
   "cell_type": "code",
   "execution_count": 6,
   "source": [
    "#so lets drop them\n",
    "ge10.drop(columns=dropvar10,inplace=True)"
   ],
   "outputs": [],
   "metadata": {}
  },
  {
   "cell_type": "markdown",
   "source": [
    "# Cleaning 2014 Results"
   ],
   "metadata": {}
  },
  {
   "cell_type": "code",
   "execution_count": 7,
   "source": [
    "#start the same as with 2010\n",
    "k14, n14 = ge14.keys(), ge14.size"
   ],
   "outputs": [],
   "metadata": {}
  },
  {
   "cell_type": "code",
   "execution_count": 8,
   "source": [
    "valno14 = dict.fromkeys(k14)\n",
    "for k in k14:\n",
    "    valno14[k] = getattr(ge14,k).value_counts()"
   ],
   "outputs": [],
   "metadata": {}
  },
  {
   "cell_type": "code",
   "execution_count": 9,
   "source": [
    "#drop the same as in 2010, also new column ID\n",
    "dropvar14 = dropvar10 + ['ID']"
   ],
   "outputs": [],
   "metadata": {}
  },
  {
   "cell_type": "code",
   "execution_count": 10,
   "source": [
    "ge14.drop(columns=dropvar14,inplace=True)"
   ],
   "outputs": [],
   "metadata": {}
  },
  {
   "cell_type": "code",
   "execution_count": 11,
   "source": [
    "#this is so I can sort the frame by most important ballot group, like how 2010 is sorted by default\n",
    "bgdict = dict(ge14.BallotGroup.value_counts())\n",
    "bgcount = []\n",
    "for bg in ge14.BallotGroup:\n",
    "    bgcount.append(bgdict[bg])\n",
    "bgser = pd.Series(bgcount,name=\"BGCount\")"
   ],
   "outputs": [],
   "metadata": {}
  },
  {
   "cell_type": "code",
   "execution_count": 12,
   "source": [
    "ge14 = ge14.merge(bgser,left_index=True,right_index=True)"
   ],
   "outputs": [],
   "metadata": {}
  },
  {
   "cell_type": "code",
   "execution_count": 13,
   "source": [
    "ge14.sort_values(by=[\"BGCount\",\"CandidateID\",\"Votes\"],ascending=[False,True,False],inplace=True,ignore_index=True)"
   ],
   "outputs": [],
   "metadata": {}
  },
  {
   "cell_type": "code",
   "execution_count": 14,
   "source": [
    "ge14.drop(columns=\"BGCount\",inplace=True)"
   ],
   "outputs": [],
   "metadata": {}
  },
  {
   "cell_type": "markdown",
   "source": [
    "## Instead of making one giant multiindex, I thought it made sense to split the dataset into three tables to take advantage of primary and foreign keys.\n",
    "## Frame \"ge14\" will split into \"candidates14\", \"ballotgroups14\", and \"votes14\"\n",
    "### Frame \"ballotgroup14\" contains a new column, \"NumberRunning\", counting how many candidates there are for each office."
   ],
   "metadata": {}
  },
  {
   "cell_type": "code",
   "execution_count": 15,
   "source": [
    "candidates14 = ge14[[\"CandidateID\",\"CanFirstName\", \"CanLastName\",\"PartyName\",\"OfficeName\"]].copy()\n",
    "candidates14.drop_duplicates(inplace=True)\n",
    "candidates14.set_index(candidates14.CandidateID,inplace=True)\n",
    "candidates14.drop(columns=\"CandidateID\",inplace=True)\n",
    "candidates14.sort_values(by=\"CandidateID\")"
   ],
   "outputs": [
    {
     "output_type": "execute_result",
     "data": {
      "text/html": [
       "<div>\n",
       "<style scoped>\n",
       "    .dataframe tbody tr th:only-of-type {\n",
       "        vertical-align: middle;\n",
       "    }\n",
       "\n",
       "    .dataframe tbody tr th {\n",
       "        vertical-align: top;\n",
       "    }\n",
       "\n",
       "    .dataframe thead th {\n",
       "        text-align: right;\n",
       "    }\n",
       "</style>\n",
       "<table border=\"1\" class=\"dataframe\">\n",
       "  <thead>\n",
       "    <tr style=\"text-align: right;\">\n",
       "      <th></th>\n",
       "      <th>CanFirstName</th>\n",
       "      <th>CanLastName</th>\n",
       "      <th>PartyName</th>\n",
       "      <th>OfficeName</th>\n",
       "    </tr>\n",
       "    <tr>\n",
       "      <th>CandidateID</th>\n",
       "      <th></th>\n",
       "      <th></th>\n",
       "      <th></th>\n",
       "      <th></th>\n",
       "    </tr>\n",
       "  </thead>\n",
       "  <tbody>\n",
       "    <tr>\n",
       "      <th>19443</th>\n",
       "      <td>CHAPIN</td>\n",
       "      <td>ROSE</td>\n",
       "      <td>REPUBLICAN</td>\n",
       "      <td>51ST SENATE</td>\n",
       "    </tr>\n",
       "    <tr>\n",
       "      <th>19444</th>\n",
       "      <td>CHRIS E.</td>\n",
       "      <td>REIF</td>\n",
       "      <td>REPUBLICAN</td>\n",
       "      <td>7TH CIRCUIT - MITCHELL VACANCY</td>\n",
       "    </tr>\n",
       "    <tr>\n",
       "      <th>19445</th>\n",
       "      <td>MIKE</td>\n",
       "      <td>ATTERBERRY</td>\n",
       "      <td>REPUBLICAN</td>\n",
       "      <td>8TH CIRCUIT - POPE  VACANCY</td>\n",
       "    </tr>\n",
       "    <tr>\n",
       "      <th>19446</th>\n",
       "      <td>THOMAS B.</td>\n",
       "      <td>EWING</td>\n",
       "      <td>DEMOCRATIC</td>\n",
       "      <td>9TH CIRCUIT - DANNER  VACANCY</td>\n",
       "    </tr>\n",
       "    <tr>\n",
       "      <th>19447</th>\n",
       "      <td>DAVE</td>\n",
       "      <td>CARLSON</td>\n",
       "      <td>REPUBLICAN</td>\n",
       "      <td>12TH CIRCUIT -  1ST SUBCIRCUIT - A VACANCY</td>\n",
       "    </tr>\n",
       "    <tr>\n",
       "      <th>...</th>\n",
       "      <td>...</td>\n",
       "      <td>...</td>\n",
       "      <td>...</td>\n",
       "      <td>...</td>\n",
       "    </tr>\n",
       "    <tr>\n",
       "      <th>20242</th>\n",
       "      <td>HILAIRE F.</td>\n",
       "      <td>SHIOURA</td>\n",
       "      <td>NaN</td>\n",
       "      <td>UNITED STATES SENATOR</td>\n",
       "    </tr>\n",
       "    <tr>\n",
       "      <th>20243</th>\n",
       "      <td>PHIL</td>\n",
       "      <td>COLLINS</td>\n",
       "      <td>NaN</td>\n",
       "      <td>9TH CONGRESS</td>\n",
       "    </tr>\n",
       "    <tr>\n",
       "      <th>20244</th>\n",
       "      <td>TOM</td>\n",
       "      <td>DEMAS</td>\n",
       "      <td>NaN</td>\n",
       "      <td>78TH REPRESENTATIVE</td>\n",
       "    </tr>\n",
       "    <tr>\n",
       "      <th>20245</th>\n",
       "      <td>CONSTANT \"CONNOR\"</td>\n",
       "      <td>VLAKANCIC</td>\n",
       "      <td>NaN</td>\n",
       "      <td>11TH CONGRESS</td>\n",
       "    </tr>\n",
       "    <tr>\n",
       "      <th>20246</th>\n",
       "      <td>RUSS \"ODIN\"</td>\n",
       "      <td>HARRISON</td>\n",
       "      <td>NaN</td>\n",
       "      <td>97TH REPRESENTATIVE</td>\n",
       "    </tr>\n",
       "  </tbody>\n",
       "</table>\n",
       "<p>697 rows × 4 columns</p>\n",
       "</div>"
      ],
      "text/plain": [
       "                  CanFirstName CanLastName   PartyName  \\\n",
       "CandidateID                                              \n",
       "19443                   CHAPIN        ROSE  REPUBLICAN   \n",
       "19444                 CHRIS E.        REIF  REPUBLICAN   \n",
       "19445                     MIKE  ATTERBERRY  REPUBLICAN   \n",
       "19446                THOMAS B.       EWING  DEMOCRATIC   \n",
       "19447                     DAVE     CARLSON  REPUBLICAN   \n",
       "...                        ...         ...         ...   \n",
       "20242               HILAIRE F.     SHIOURA         NaN   \n",
       "20243                     PHIL     COLLINS         NaN   \n",
       "20244                      TOM       DEMAS         NaN   \n",
       "20245        CONSTANT \"CONNOR\"   VLAKANCIC         NaN   \n",
       "20246              RUSS \"ODIN\"    HARRISON         NaN   \n",
       "\n",
       "                                             OfficeName  \n",
       "CandidateID                                              \n",
       "19443                                       51ST SENATE  \n",
       "19444                    7TH CIRCUIT - MITCHELL VACANCY  \n",
       "19445                       8TH CIRCUIT - POPE  VACANCY  \n",
       "19446                     9TH CIRCUIT - DANNER  VACANCY  \n",
       "19447        12TH CIRCUIT -  1ST SUBCIRCUIT - A VACANCY  \n",
       "...                                                 ...  \n",
       "20242                             UNITED STATES SENATOR  \n",
       "20243                                      9TH CONGRESS  \n",
       "20244                               78TH REPRESENTATIVE  \n",
       "20245                                     11TH CONGRESS  \n",
       "20246                               97TH REPRESENTATIVE  \n",
       "\n",
       "[697 rows x 4 columns]"
      ]
     },
     "metadata": {},
     "execution_count": 15
    }
   ],
   "metadata": {}
  },
  {
   "cell_type": "code",
   "execution_count": 16,
   "source": [
    "runningno = ge14.OfficeName.value_counts()\n",
    "rndict = dict(runningno)\n",
    "rnlist = []\n",
    "for o in ge14.OfficeName:\n",
    "    rnlist.append(rndict[o])\n",
    "NumberRunning = pd.Series(rnlist,name=\"NumberRunning\")"
   ],
   "outputs": [],
   "metadata": {}
  },
  {
   "cell_type": "code",
   "execution_count": 17,
   "source": [
    "bg14 = ge14[[\"OfficeName\",\"BallotGroup\"]].copy()\n",
    "bg14 = bg14.merge(NumberRunning,left_index=True, right_index=True)\n",
    "bg14.drop_duplicates(subset=\"OfficeName\",inplace=True)\n",
    "indx = pd.MultiIndex.from_frame(bg14[[\"BallotGroup\",\"OfficeName\"]])\n",
    "bg14.set_index(indx,inplace=True)"
   ],
   "outputs": [],
   "metadata": {}
  },
  {
   "cell_type": "code",
   "execution_count": 18,
   "source": [
    "bg14.drop(columns=[\"BallotGroup\",\"OfficeName\"],inplace=True)"
   ],
   "outputs": [],
   "metadata": {}
  },
  {
   "cell_type": "code",
   "execution_count": 19,
   "source": [
    "bglist2 =[]\n",
    "for bg in [bg14.index[i][0] for i in range(407)]:\n",
    "    bglist2.append(bgdict[bg])\n",
    "bgdf2 = pd.DataFrame(bglist2,index=indx)\n",
    "bg14 = bg14.merge(bgdf2,left_index=True,right_index=True)"
   ],
   "outputs": [],
   "metadata": {}
  },
  {
   "cell_type": "code",
   "execution_count": 20,
   "source": [
    "bg14.sort_values(by=[0,\"NumberRunning\"],ascending=[False,False],inplace=True)\n",
    "ballotgroups14 = bg14.drop(columns=0)"
   ],
   "outputs": [],
   "metadata": {}
  },
  {
   "cell_type": "code",
   "execution_count": 21,
   "source": [
    "votes14 = ge14[[\"CandidateID\",\"County\",\"Votes\"]].copy()\n",
    "indx2 = pd.MultiIndex.from_frame(ge14[[\"CandidateID\",\"County\"]])\n",
    "votes14.set_index(indx2,inplace=True)\n",
    "votes14.drop(columns=[\"CandidateID\",\"County\"],inplace=True)\n",
    "votes14.sort_values(by=['CandidateID','Votes'],ascending=[True,False],inplace=True)"
   ],
   "outputs": [],
   "metadata": {}
  },
  {
   "cell_type": "code",
   "execution_count": 22,
   "source": [
    "candidates14.head()"
   ],
   "outputs": [
    {
     "output_type": "execute_result",
     "data": {
      "text/html": [
       "<div>\n",
       "<style scoped>\n",
       "    .dataframe tbody tr th:only-of-type {\n",
       "        vertical-align: middle;\n",
       "    }\n",
       "\n",
       "    .dataframe tbody tr th {\n",
       "        vertical-align: top;\n",
       "    }\n",
       "\n",
       "    .dataframe thead th {\n",
       "        text-align: right;\n",
       "    }\n",
       "</style>\n",
       "<table border=\"1\" class=\"dataframe\">\n",
       "  <thead>\n",
       "    <tr style=\"text-align: right;\">\n",
       "      <th></th>\n",
       "      <th>CanFirstName</th>\n",
       "      <th>CanLastName</th>\n",
       "      <th>PartyName</th>\n",
       "      <th>OfficeName</th>\n",
       "    </tr>\n",
       "    <tr>\n",
       "      <th>CandidateID</th>\n",
       "      <th></th>\n",
       "      <th></th>\n",
       "      <th></th>\n",
       "      <th></th>\n",
       "    </tr>\n",
       "  </thead>\n",
       "  <tbody>\n",
       "    <tr>\n",
       "      <th>19748</th>\n",
       "      <td>PAUL M.</td>\n",
       "      <td>SCHIMPF</td>\n",
       "      <td>REPUBLICAN</td>\n",
       "      <td>ATTORNEY GENERAL</td>\n",
       "    </tr>\n",
       "    <tr>\n",
       "      <th>19749</th>\n",
       "      <td>LISA</td>\n",
       "      <td>MADIGAN</td>\n",
       "      <td>DEMOCRATIC</td>\n",
       "      <td>ATTORNEY GENERAL</td>\n",
       "    </tr>\n",
       "    <tr>\n",
       "      <th>19751</th>\n",
       "      <td>JUDY BAAR</td>\n",
       "      <td>TOPINKA</td>\n",
       "      <td>REPUBLICAN</td>\n",
       "      <td>COMPTROLLER</td>\n",
       "    </tr>\n",
       "    <tr>\n",
       "      <th>19752</th>\n",
       "      <td>SHEILA</td>\n",
       "      <td>SIMON</td>\n",
       "      <td>DEMOCRATIC</td>\n",
       "      <td>COMPTROLLER</td>\n",
       "    </tr>\n",
       "    <tr>\n",
       "      <th>19762</th>\n",
       "      <td>BRUCE</td>\n",
       "      <td>RAUNER</td>\n",
       "      <td>REPUBLICAN</td>\n",
       "      <td>GOVERNOR AND LIEUTENANT GOVERNOR</td>\n",
       "    </tr>\n",
       "  </tbody>\n",
       "</table>\n",
       "</div>"
      ],
      "text/plain": [
       "            CanFirstName CanLastName   PartyName  \\\n",
       "CandidateID                                        \n",
       "19748            PAUL M.     SCHIMPF  REPUBLICAN   \n",
       "19749               LISA     MADIGAN  DEMOCRATIC   \n",
       "19751          JUDY BAAR     TOPINKA  REPUBLICAN   \n",
       "19752             SHEILA       SIMON  DEMOCRATIC   \n",
       "19762              BRUCE      RAUNER  REPUBLICAN   \n",
       "\n",
       "                                   OfficeName  \n",
       "CandidateID                                    \n",
       "19748                        ATTORNEY GENERAL  \n",
       "19749                        ATTORNEY GENERAL  \n",
       "19751                             COMPTROLLER  \n",
       "19752                             COMPTROLLER  \n",
       "19762        GOVERNOR AND LIEUTENANT GOVERNOR  "
      ]
     },
     "metadata": {},
     "execution_count": 22
    }
   ],
   "metadata": {}
  },
  {
   "cell_type": "code",
   "execution_count": 23,
   "source": [
    "ballotgroups14.head()"
   ],
   "outputs": [
    {
     "output_type": "execute_result",
     "data": {
      "text/html": [
       "<div>\n",
       "<style scoped>\n",
       "    .dataframe tbody tr th:only-of-type {\n",
       "        vertical-align: middle;\n",
       "    }\n",
       "\n",
       "    .dataframe tbody tr th {\n",
       "        vertical-align: top;\n",
       "    }\n",
       "\n",
       "    .dataframe thead th {\n",
       "        text-align: right;\n",
       "    }\n",
       "</style>\n",
       "<table border=\"1\" class=\"dataframe\">\n",
       "  <thead>\n",
       "    <tr style=\"text-align: right;\">\n",
       "      <th></th>\n",
       "      <th></th>\n",
       "      <th>NumberRunning</th>\n",
       "    </tr>\n",
       "    <tr>\n",
       "      <th>BallotGroup</th>\n",
       "      <th>OfficeName</th>\n",
       "      <th></th>\n",
       "    </tr>\n",
       "  </thead>\n",
       "  <tbody>\n",
       "    <tr>\n",
       "      <th rowspan=\"5\" valign=\"top\">B</th>\n",
       "      <th>GOVERNOR AND LIEUTENANT GOVERNOR</th>\n",
       "      <td>761</td>\n",
       "    </tr>\n",
       "    <tr>\n",
       "      <th>COMPTROLLER</th>\n",
       "      <td>403</td>\n",
       "    </tr>\n",
       "    <tr>\n",
       "      <th>SECRETARY OF STATE</th>\n",
       "      <td>334</td>\n",
       "    </tr>\n",
       "    <tr>\n",
       "      <th>ATTORNEY GENERAL</th>\n",
       "      <td>306</td>\n",
       "    </tr>\n",
       "    <tr>\n",
       "      <th>TREASURER</th>\n",
       "      <td>306</td>\n",
       "    </tr>\n",
       "  </tbody>\n",
       "</table>\n",
       "</div>"
      ],
      "text/plain": [
       "                                              NumberRunning\n",
       "BallotGroup OfficeName                                     \n",
       "B           GOVERNOR AND LIEUTENANT GOVERNOR            761\n",
       "            COMPTROLLER                                 403\n",
       "            SECRETARY OF STATE                          334\n",
       "            ATTORNEY GENERAL                            306\n",
       "            TREASURER                                   306"
      ]
     },
     "metadata": {},
     "execution_count": 23
    }
   ],
   "metadata": {}
  },
  {
   "cell_type": "code",
   "execution_count": 24,
   "source": [
    "votes14.head()"
   ],
   "outputs": [
    {
     "output_type": "execute_result",
     "data": {
      "text/html": [
       "<div>\n",
       "<style scoped>\n",
       "    .dataframe tbody tr th:only-of-type {\n",
       "        vertical-align: middle;\n",
       "    }\n",
       "\n",
       "    .dataframe tbody tr th {\n",
       "        vertical-align: top;\n",
       "    }\n",
       "\n",
       "    .dataframe thead th {\n",
       "        text-align: right;\n",
       "    }\n",
       "</style>\n",
       "<table border=\"1\" class=\"dataframe\">\n",
       "  <thead>\n",
       "    <tr style=\"text-align: right;\">\n",
       "      <th></th>\n",
       "      <th></th>\n",
       "      <th>Votes</th>\n",
       "    </tr>\n",
       "    <tr>\n",
       "      <th>CandidateID</th>\n",
       "      <th>County</th>\n",
       "      <th></th>\n",
       "    </tr>\n",
       "  </thead>\n",
       "  <tbody>\n",
       "    <tr>\n",
       "      <th rowspan=\"5\" valign=\"top\">19443</th>\n",
       "      <th>MACON</th>\n",
       "      <td>16658</td>\n",
       "    </tr>\n",
       "    <tr>\n",
       "      <th>CHAMPAIGN</th>\n",
       "      <td>15501</td>\n",
       "    </tr>\n",
       "    <tr>\n",
       "      <th>SHELBY</th>\n",
       "      <td>7116</td>\n",
       "    </tr>\n",
       "    <tr>\n",
       "      <th>PIATT</th>\n",
       "      <td>6443</td>\n",
       "    </tr>\n",
       "    <tr>\n",
       "      <th>DOUGLAS</th>\n",
       "      <td>5623</td>\n",
       "    </tr>\n",
       "  </tbody>\n",
       "</table>\n",
       "</div>"
      ],
      "text/plain": [
       "                       Votes\n",
       "CandidateID County          \n",
       "19443       MACON      16658\n",
       "            CHAMPAIGN  15501\n",
       "            SHELBY      7116\n",
       "            PIATT       6443\n",
       "            DOUGLAS     5623"
      ]
     },
     "metadata": {},
     "execution_count": 24
    }
   ],
   "metadata": {}
  },
  {
   "cell_type": "markdown",
   "source": [
    "# Export tables to csvs"
   ],
   "metadata": {}
  },
  {
   "cell_type": "code",
   "execution_count": 25,
   "source": [
    "candidates14.to_csv(\"csv-clean/candidates14.csv\",index_label=\"CandidateID\")\n",
    "ballotgroups14.to_csv(\"csv-clean/ballotgroups14.csv\",index_label=[\"BallotGroup\",\"OfficeName\"])\n",
    "votes14.to_csv(\"csv-clean/votes14.csv\",index_label=[\"CandidateID\",\"County\"])"
   ],
   "outputs": [],
   "metadata": {}
  },
  {
   "cell_type": "markdown",
   "source": [
    "# Will continue in the same way with GE18 and GE10 unless otherwise told!"
   ],
   "metadata": {}
  },
  {
   "cell_type": "code",
   "execution_count": 31,
   "source": [
    "k18, n18 = ge18.keys(), ge18.size"
   ],
   "outputs": [],
   "metadata": {}
  },
  {
   "cell_type": "code",
   "execution_count": 34,
   "source": [
    "valno18 = dict.fromkeys(k18)\n",
    "for k in k18:\n",
    "    valno18[k] = getattr(ge18,k).value_counts()"
   ],
   "outputs": [],
   "metadata": {}
  },
  {
   "cell_type": "code",
   "execution_count": 35,
   "source": [
    "dropvar18 = dropvar14"
   ],
   "outputs": [],
   "metadata": {}
  }
 ],
 "metadata": {
  "orig_nbformat": 4,
  "language_info": {
   "name": "python",
   "version": "3.8.8",
   "mimetype": "text/x-python",
   "codemirror_mode": {
    "name": "ipython",
    "version": 3
   },
   "pygments_lexer": "ipython3",
   "nbconvert_exporter": "python",
   "file_extension": ".py"
  },
  "kernelspec": {
   "name": "python3",
   "display_name": "Python 3.8.8 64-bit ('base': conda)"
  },
  "interpreter": {
   "hash": "3056ff0f1845929a8989f1bded2e103b0e50e44d85bf2567aa5138af1ce355cd"
  }
 },
 "nbformat": 4,
 "nbformat_minor": 2
}