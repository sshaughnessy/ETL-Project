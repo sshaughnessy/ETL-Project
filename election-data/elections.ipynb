{
 "cells": [
  {
   "cell_type": "code",
   "execution_count": 6,
   "source": [
    "import  pandas as pd\n",
    "import numpy as np"
   ],
   "outputs": [],
   "metadata": {}
  },
  {
   "cell_type": "code",
   "execution_count": 7,
   "source": [
    "file10 = \"csv-origins/GE2010_byCounty.csv\"\n",
    "ge10 = pd.read_csv(file10)"
   ],
   "outputs": [],
   "metadata": {}
  },
  {
   "cell_type": "markdown",
   "source": [
    "# Cleaning 2010 Results"
   ],
   "metadata": {}
  },
  {
   "cell_type": "code",
   "execution_count": 8,
   "source": [
    "k10, n10 = ge10.keys(), ge10.size"
   ],
   "outputs": [],
   "metadata": {}
  },
  {
   "cell_type": "code",
   "execution_count": 9,
   "source": [
    "#check out the value counts for each column\n",
    "valno10 = dict.fromkeys(k10)\n",
    "for k in k10:\n",
    "    valno10[k] = getattr(ge10,k).value_counts()"
   ],
   "outputs": [],
   "metadata": {}
  },
  {
   "cell_type": "code",
   "execution_count": 10,
   "source": [
    "#these columns are not useful\n",
    "dropvar10 = [\"CanAffilCommit\", \"Election\", \"VoteFor\", \"PartyAbbrev\",\"OfficeSequence\"]"
   ],
   "outputs": [],
   "metadata": {}
  },
  {
   "cell_type": "code",
   "execution_count": 11,
   "source": [
    "#so lets drop them\n",
    "ge10.drop(columns=dropvar10,inplace=True)"
   ],
   "outputs": [],
   "metadata": {}
  },
  {
   "cell_type": "code",
   "execution_count": 12,
   "source": [
    "nocandbool10 = list(ge10.CanLastName == \"NO CANDIDATE\")\n",
    "nocandindx10 = ge10[nocandbool10].index\n",
    "ge10.drop(index=nocandindx10,inplace=True)"
   ],
   "outputs": [],
   "metadata": {}
  },
  {
   "cell_type": "code",
   "execution_count": 69,
   "source": [
    "ge10.loc[[\" - YES\" in x for x in ge10[\"CanLastName\"]], \"PartyName\"] = \"NON-PARTISAN\"\n",
    "ge10.loc[[\" - NO\" in x for x in ge10[\"CanLastName\"]], \"PartyName\"] = \"NON-PARTISAN\""
   ],
   "outputs": [],
   "metadata": {}
  },
  {
   "cell_type": "code",
   "execution_count": 14,
   "source": [
    "for p in ge10.CanLastName:\n",
    "    for l in p:\n",
    "        if l != l.capitalize():\n",
    "            capl = p.replace(l, l.capitalize())\n",
    "            ge10.replace(p,capl,inplace=True)"
   ],
   "outputs": [],
   "metadata": {}
  },
  {
   "cell_type": "code",
   "execution_count": 16,
   "source": [
    "nulloc10 = ge10.isnull().values\n",
    "nansdf10 = ge10[nulloc10].copy()\n",
    "nans = nansdf10.PartyName.values[0]\n",
    "nancandlist10 = nansdf10[['CanFirstName','CanLastName','OfficeName']].drop_duplicates(subset=\"CanLastName\")\n",
    "nancandlist10 = nancandlist10.sort_values(by=\"CanLastName\")\n",
    "nancandlist10 = nancandlist10.values"
   ],
   "outputs": [],
   "metadata": {}
  },
  {
   "cell_type": "code",
   "execution_count": null,
   "source": [
    "namelist10 = []\n",
    "for l in nancandlist10:\n",
    "    namelist10.append(\" \".join(l))"
   ],
   "outputs": [],
   "metadata": {}
  },
  {
   "cell_type": "code",
   "execution_count": null,
   "source": [
    "with open(\"nancandlist10.txt\", 'w') as output:\n",
    "    for row in namelist10:\n",
    "        output.write(str(row) + '\\n')"
   ],
   "outputs": [],
   "metadata": {}
  },
  {
   "cell_type": "code",
   "execution_count": 41,
   "source": [
    "write_ins10 = list(nansdf10[\"CanLastName\"].drop_duplicates().values)\n",
    "ge10[[x in write_ins10 for x in ge10.CanLastName]] = ge10[[x in write_ins10 for x in ge10.CanLastName]].replace(nans,\"WRITE IN\")"
   ],
   "outputs": [],
   "metadata": {}
  },
  {
   "cell_type": "code",
   "execution_count": 46,
   "source": [
    "candidates10 = ge10[[\"CandidateID\",\"CanFirstName\", \"CanLastName\",\"PartyName\",\"OfficeName\"]].copy()\n",
    "candidates10.drop_duplicates(inplace=True,subset=\"CandidateID\")\n",
    "candidates10.set_index(candidates10.CandidateID,inplace=True)\n",
    "candidates10.drop(columns=\"CandidateID\",inplace=True)\n",
    "candidates10.sort_values(by=\"CandidateID\",inplace=True)\n",
    "candidates10"
   ],
   "outputs": [
    {
     "output_type": "execute_result",
     "data": {
      "text/html": [
       "<div>\n",
       "<style scoped>\n",
       "    .dataframe tbody tr th:only-of-type {\n",
       "        vertical-align: middle;\n",
       "    }\n",
       "\n",
       "    .dataframe tbody tr th {\n",
       "        vertical-align: top;\n",
       "    }\n",
       "\n",
       "    .dataframe thead th {\n",
       "        text-align: right;\n",
       "    }\n",
       "</style>\n",
       "<table border=\"1\" class=\"dataframe\">\n",
       "  <thead>\n",
       "    <tr style=\"text-align: right;\">\n",
       "      <th></th>\n",
       "      <th>CanFirstName</th>\n",
       "      <th>CanLastName</th>\n",
       "      <th>PartyName</th>\n",
       "      <th>OfficeName</th>\n",
       "    </tr>\n",
       "    <tr>\n",
       "      <th>CandidateID</th>\n",
       "      <th></th>\n",
       "      <th></th>\n",
       "      <th></th>\n",
       "      <th></th>\n",
       "    </tr>\n",
       "  </thead>\n",
       "  <tbody>\n",
       "    <tr>\n",
       "      <th>15694</th>\n",
       "      <td>RICH</td>\n",
       "      <td>BRAUER</td>\n",
       "      <td>REPUBLICAN</td>\n",
       "      <td>100TH REPRESENTATIVE</td>\n",
       "    </tr>\n",
       "    <tr>\n",
       "      <th>15695</th>\n",
       "      <td>BOB</td>\n",
       "      <td>FLIDER</td>\n",
       "      <td>DEMOCRATIC</td>\n",
       "      <td>101ST REPRESENTATIVE</td>\n",
       "    </tr>\n",
       "    <tr>\n",
       "      <th>15697</th>\n",
       "      <td>MARK STEVEN</td>\n",
       "      <td>KIRK</td>\n",
       "      <td>REPUBLICAN</td>\n",
       "      <td>UNITED STATES SENATOR</td>\n",
       "    </tr>\n",
       "    <tr>\n",
       "      <th>15698</th>\n",
       "      <td>ALEXANDER \"ALEXI\"</td>\n",
       "      <td>GIANNOULIAS</td>\n",
       "      <td>DEMOCRATIC</td>\n",
       "      <td>UNITED STATES SENATOR</td>\n",
       "    </tr>\n",
       "    <tr>\n",
       "      <th>15699</th>\n",
       "      <td>LeALAN M.</td>\n",
       "      <td>JONES</td>\n",
       "      <td>GREEN</td>\n",
       "      <td>UNITED STATES SENATOR</td>\n",
       "    </tr>\n",
       "    <tr>\n",
       "      <th>...</th>\n",
       "      <td>...</td>\n",
       "      <td>...</td>\n",
       "      <td>...</td>\n",
       "      <td>...</td>\n",
       "    </tr>\n",
       "    <tr>\n",
       "      <th>16496</th>\n",
       "      <td>STEVE</td>\n",
       "      <td>FUNK</td>\n",
       "      <td>WRITE IN</td>\n",
       "      <td>18TH REPRESENTATIVE</td>\n",
       "    </tr>\n",
       "    <tr>\n",
       "      <th>16497</th>\n",
       "      <td>DARREN</td>\n",
       "      <td>RAICHART</td>\n",
       "      <td>WRITE IN</td>\n",
       "      <td>UNITED STATES SENATOR</td>\n",
       "    </tr>\n",
       "    <tr>\n",
       "      <th>16498</th>\n",
       "      <td>LOWELL M.</td>\n",
       "      <td>SEIDA</td>\n",
       "      <td>WRITE IN</td>\n",
       "      <td>UNITED STATES SENATOR</td>\n",
       "    </tr>\n",
       "    <tr>\n",
       "      <th>16499</th>\n",
       "      <td>MICHAEL \"MIKE\"</td>\n",
       "      <td>WHITE</td>\n",
       "      <td>WRITE IN</td>\n",
       "      <td>GOVERNOR AND LIEUTENANT GOVERNOR</td>\n",
       "    </tr>\n",
       "    <tr>\n",
       "      <th>16503</th>\n",
       "      <td>DAVID</td>\n",
       "      <td>PHOENIX</td>\n",
       "      <td>WRITE IN</td>\n",
       "      <td>64TH REPRESENTATIVE</td>\n",
       "    </tr>\n",
       "  </tbody>\n",
       "</table>\n",
       "<p>699 rows × 4 columns</p>\n",
       "</div>"
      ],
      "text/plain": [
       "                  CanFirstName  CanLastName   PartyName  \\\n",
       "CandidateID                                               \n",
       "15694                     RICH       BRAUER  REPUBLICAN   \n",
       "15695                      BOB       FLIDER  DEMOCRATIC   \n",
       "15697              MARK STEVEN         KIRK  REPUBLICAN   \n",
       "15698        ALEXANDER \"ALEXI\"  GIANNOULIAS  DEMOCRATIC   \n",
       "15699                LeALAN M.        JONES       GREEN   \n",
       "...                        ...          ...         ...   \n",
       "16496                    STEVE         FUNK    WRITE IN   \n",
       "16497                   DARREN     RAICHART    WRITE IN   \n",
       "16498                LOWELL M.        SEIDA    WRITE IN   \n",
       "16499           MICHAEL \"MIKE\"        WHITE    WRITE IN   \n",
       "16503                    DAVID      PHOENIX    WRITE IN   \n",
       "\n",
       "                                   OfficeName  \n",
       "CandidateID                                    \n",
       "15694                    100TH REPRESENTATIVE  \n",
       "15695                    101ST REPRESENTATIVE  \n",
       "15697                   UNITED STATES SENATOR  \n",
       "15698                   UNITED STATES SENATOR  \n",
       "15699                   UNITED STATES SENATOR  \n",
       "...                                       ...  \n",
       "16496                     18TH REPRESENTATIVE  \n",
       "16497                   UNITED STATES SENATOR  \n",
       "16498                   UNITED STATES SENATOR  \n",
       "16499        GOVERNOR AND LIEUTENANT GOVERNOR  \n",
       "16503                     64TH REPRESENTATIVE  \n",
       "\n",
       "[699 rows x 4 columns]"
      ]
     },
     "metadata": {},
     "execution_count": 46
    }
   ],
   "metadata": {}
  },
  {
   "cell_type": "code",
   "execution_count": 48,
   "source": [
    "runningno10 = ge10.OfficeName.value_counts()\n",
    "rndict10 = dict(runningno10)\n",
    "rnlist10 = []\n",
    "for o in ge10.OfficeName:\n",
    "    rnlist10.append(rndict10[o])\n",
    "NumberRunning10 = pd.Series(rnlist10,name=\"NumberRunning\")"
   ],
   "outputs": [],
   "metadata": {}
  },
  {
   "cell_type": "code",
   "execution_count": 49,
   "source": [
    "bg10 = ge10[[\"OfficeName\",\"BallotGroup\"]].copy()\n",
    "bg10 = bg10.merge(NumberRunning10,left_index=True, right_index=True)\n",
    "bg10.drop_duplicates(subset=\"OfficeName\",inplace=True,ignore_index=True)"
   ],
   "outputs": [],
   "metadata": {}
  },
  {
   "cell_type": "code",
   "execution_count": 50,
   "source": [
    "bg10count = bg10.groupby(\"BallotGroup\")\n",
    "bg10dict = dict.fromkeys(bg10.BallotGroup.drop_duplicates())"
   ],
   "outputs": [],
   "metadata": {}
  },
  {
   "cell_type": "code",
   "execution_count": 51,
   "source": [
    "for bg in bg10.BallotGroup.drop_duplicates():\n",
    "    nrsum = bg10count.get_group(bg).NumberRunning.sum()\n",
    "    bg10dict[bg] = nrsum"
   ],
   "outputs": [],
   "metadata": {}
  },
  {
   "cell_type": "code",
   "execution_count": 52,
   "source": [
    "bg10list = []\n",
    "for bg in bg10.BallotGroup:\n",
    "    bg10list.append(bg10dict[bg])\n",
    "bg10ser = pd.Series(bg10list, index=bg10.index, name=\"BallotGrpCount\")"
   ],
   "outputs": [],
   "metadata": {}
  },
  {
   "cell_type": "code",
   "execution_count": 53,
   "source": [
    "bg10 = bg10.merge(bg10ser,left_index=True,right_index=True)"
   ],
   "outputs": [],
   "metadata": {}
  },
  {
   "cell_type": "code",
   "execution_count": 54,
   "source": [
    "indx = pd.MultiIndex.from_frame(bg10[[\"BallotGroup\",\"OfficeName\"]])\n",
    "bg10.set_index(indx,inplace=True)"
   ],
   "outputs": [],
   "metadata": {}
  },
  {
   "cell_type": "code",
   "execution_count": 55,
   "source": [
    "bg10.sort_values(by=[\"BallotGrpCount\",\"NumberRunning\"], ascending=[False,False],inplace=True)"
   ],
   "outputs": [],
   "metadata": {}
  },
  {
   "cell_type": "code",
   "execution_count": 56,
   "source": [
    "bg10.drop(columns=[\"BallotGroup\",\"OfficeName\",\"BallotGrpCount\"],inplace=True)"
   ],
   "outputs": [],
   "metadata": {}
  },
  {
   "cell_type": "code",
   "execution_count": 57,
   "source": [
    "ballotgroups10 = bg10.copy()"
   ],
   "outputs": [],
   "metadata": {}
  },
  {
   "cell_type": "code",
   "execution_count": 58,
   "source": [
    "votes10 = ge10[[\"CandidateID\",\"County\",\"Votes\"]].copy()\n",
    "indx2 = pd.MultiIndex.from_frame(ge10[[\"CandidateID\",\"County\"]])\n",
    "votes10.set_index(indx2,inplace=True)\n",
    "votes10.drop(columns=[\"CandidateID\",\"County\"],inplace=True)\n",
    "votes10.sort_values(by=['CandidateID','Votes'],ascending=[True,False],inplace=True)"
   ],
   "outputs": [],
   "metadata": {}
  },
  {
   "cell_type": "code",
   "execution_count": 59,
   "source": [
    "candidates10.head()"
   ],
   "outputs": [
    {
     "output_type": "execute_result",
     "data": {
      "text/html": [
       "<div>\n",
       "<style scoped>\n",
       "    .dataframe tbody tr th:only-of-type {\n",
       "        vertical-align: middle;\n",
       "    }\n",
       "\n",
       "    .dataframe tbody tr th {\n",
       "        vertical-align: top;\n",
       "    }\n",
       "\n",
       "    .dataframe thead th {\n",
       "        text-align: right;\n",
       "    }\n",
       "</style>\n",
       "<table border=\"1\" class=\"dataframe\">\n",
       "  <thead>\n",
       "    <tr style=\"text-align: right;\">\n",
       "      <th></th>\n",
       "      <th>CanFirstName</th>\n",
       "      <th>CanLastName</th>\n",
       "      <th>PartyName</th>\n",
       "      <th>OfficeName</th>\n",
       "    </tr>\n",
       "    <tr>\n",
       "      <th>CandidateID</th>\n",
       "      <th></th>\n",
       "      <th></th>\n",
       "      <th></th>\n",
       "      <th></th>\n",
       "    </tr>\n",
       "  </thead>\n",
       "  <tbody>\n",
       "    <tr>\n",
       "      <th>15694</th>\n",
       "      <td>RICH</td>\n",
       "      <td>BRAUER</td>\n",
       "      <td>REPUBLICAN</td>\n",
       "      <td>100TH REPRESENTATIVE</td>\n",
       "    </tr>\n",
       "    <tr>\n",
       "      <th>15695</th>\n",
       "      <td>BOB</td>\n",
       "      <td>FLIDER</td>\n",
       "      <td>DEMOCRATIC</td>\n",
       "      <td>101ST REPRESENTATIVE</td>\n",
       "    </tr>\n",
       "    <tr>\n",
       "      <th>15697</th>\n",
       "      <td>MARK STEVEN</td>\n",
       "      <td>KIRK</td>\n",
       "      <td>REPUBLICAN</td>\n",
       "      <td>UNITED STATES SENATOR</td>\n",
       "    </tr>\n",
       "    <tr>\n",
       "      <th>15698</th>\n",
       "      <td>ALEXANDER \"ALEXI\"</td>\n",
       "      <td>GIANNOULIAS</td>\n",
       "      <td>DEMOCRATIC</td>\n",
       "      <td>UNITED STATES SENATOR</td>\n",
       "    </tr>\n",
       "    <tr>\n",
       "      <th>15699</th>\n",
       "      <td>LeALAN M.</td>\n",
       "      <td>JONES</td>\n",
       "      <td>GREEN</td>\n",
       "      <td>UNITED STATES SENATOR</td>\n",
       "    </tr>\n",
       "  </tbody>\n",
       "</table>\n",
       "</div>"
      ],
      "text/plain": [
       "                  CanFirstName  CanLastName   PartyName             OfficeName\n",
       "CandidateID                                                                   \n",
       "15694                     RICH       BRAUER  REPUBLICAN   100TH REPRESENTATIVE\n",
       "15695                      BOB       FLIDER  DEMOCRATIC   101ST REPRESENTATIVE\n",
       "15697              MARK STEVEN         KIRK  REPUBLICAN  UNITED STATES SENATOR\n",
       "15698        ALEXANDER \"ALEXI\"  GIANNOULIAS  DEMOCRATIC  UNITED STATES SENATOR\n",
       "15699                LeALAN M.        JONES       GREEN  UNITED STATES SENATOR"
      ]
     },
     "metadata": {},
     "execution_count": 59
    }
   ],
   "metadata": {}
  },
  {
   "cell_type": "code",
   "execution_count": 60,
   "source": [
    "ballotgroups10.head()"
   ],
   "outputs": [
    {
     "output_type": "execute_result",
     "data": {
      "text/html": [
       "<div>\n",
       "<style scoped>\n",
       "    .dataframe tbody tr th:only-of-type {\n",
       "        vertical-align: middle;\n",
       "    }\n",
       "\n",
       "    .dataframe tbody tr th {\n",
       "        vertical-align: top;\n",
       "    }\n",
       "\n",
       "    .dataframe thead th {\n",
       "        text-align: right;\n",
       "    }\n",
       "</style>\n",
       "<table border=\"1\" class=\"dataframe\">\n",
       "  <thead>\n",
       "    <tr style=\"text-align: right;\">\n",
       "      <th></th>\n",
       "      <th></th>\n",
       "      <th>NumberRunning</th>\n",
       "    </tr>\n",
       "    <tr>\n",
       "      <th>BallotGroup</th>\n",
       "      <th>OfficeName</th>\n",
       "      <th></th>\n",
       "    </tr>\n",
       "  </thead>\n",
       "  <tbody>\n",
       "    <tr>\n",
       "      <th rowspan=\"5\" valign=\"top\">B</th>\n",
       "      <th>GOVERNOR AND LIEUTENANT GOVERNOR</th>\n",
       "      <td>777</td>\n",
       "    </tr>\n",
       "    <tr>\n",
       "      <th>ATTORNEY GENERAL</th>\n",
       "      <td>408</td>\n",
       "    </tr>\n",
       "    <tr>\n",
       "      <th>COMPTROLLER</th>\n",
       "      <td>408</td>\n",
       "    </tr>\n",
       "    <tr>\n",
       "      <th>TREASURER</th>\n",
       "      <td>408</td>\n",
       "    </tr>\n",
       "    <tr>\n",
       "      <th>SECRETARY OF STATE</th>\n",
       "      <td>306</td>\n",
       "    </tr>\n",
       "  </tbody>\n",
       "</table>\n",
       "</div>"
      ],
      "text/plain": [
       "                                              NumberRunning\n",
       "BallotGroup OfficeName                                     \n",
       "B           GOVERNOR AND LIEUTENANT GOVERNOR            777\n",
       "            ATTORNEY GENERAL                            408\n",
       "            COMPTROLLER                                 408\n",
       "            TREASURER                                   408\n",
       "            SECRETARY OF STATE                          306"
      ]
     },
     "metadata": {},
     "execution_count": 60
    }
   ],
   "metadata": {}
  },
  {
   "cell_type": "code",
   "execution_count": 61,
   "source": [
    "votes10.head()"
   ],
   "outputs": [
    {
     "output_type": "execute_result",
     "data": {
      "text/html": [
       "<div>\n",
       "<style scoped>\n",
       "    .dataframe tbody tr th:only-of-type {\n",
       "        vertical-align: middle;\n",
       "    }\n",
       "\n",
       "    .dataframe tbody tr th {\n",
       "        vertical-align: top;\n",
       "    }\n",
       "\n",
       "    .dataframe thead th {\n",
       "        text-align: right;\n",
       "    }\n",
       "</style>\n",
       "<table border=\"1\" class=\"dataframe\">\n",
       "  <thead>\n",
       "    <tr style=\"text-align: right;\">\n",
       "      <th></th>\n",
       "      <th></th>\n",
       "      <th>Votes</th>\n",
       "    </tr>\n",
       "    <tr>\n",
       "      <th>CandidateID</th>\n",
       "      <th>County</th>\n",
       "      <th></th>\n",
       "    </tr>\n",
       "  </thead>\n",
       "  <tbody>\n",
       "    <tr>\n",
       "      <th rowspan=\"3\" valign=\"top\">15694</th>\n",
       "      <th>SANGAMON</th>\n",
       "      <td>32318</td>\n",
       "    </tr>\n",
       "    <tr>\n",
       "      <th>MENARD</th>\n",
       "      <td>4085</td>\n",
       "    </tr>\n",
       "    <tr>\n",
       "      <th>LOGAN</th>\n",
       "      <td>4071</td>\n",
       "    </tr>\n",
       "    <tr>\n",
       "      <th rowspan=\"2\" valign=\"top\">15695</th>\n",
       "      <th>MACON</th>\n",
       "      <td>12464</td>\n",
       "    </tr>\n",
       "    <tr>\n",
       "      <th>MOULTRIE</th>\n",
       "      <td>1893</td>\n",
       "    </tr>\n",
       "  </tbody>\n",
       "</table>\n",
       "</div>"
      ],
      "text/plain": [
       "                      Votes\n",
       "CandidateID County         \n",
       "15694       SANGAMON  32318\n",
       "            MENARD     4085\n",
       "            LOGAN      4071\n",
       "15695       MACON     12464\n",
       "            MOULTRIE   1893"
      ]
     },
     "metadata": {},
     "execution_count": 61
    }
   ],
   "metadata": {}
  },
  {
   "cell_type": "markdown",
   "source": [
    "# Export tables to csvs\n"
   ],
   "metadata": {}
  },
  {
   "cell_type": "code",
   "execution_count": 62,
   "source": [
    "candidates10.to_csv(\"csv-clean/candidates10.csv\",index_label=\"CandidateID\")\n",
    "ballotgroups10.to_csv(\"csv-clean/ballotgroups10.csv\",index_label=[\"BallotGroup\",\"OfficeName\"])\n",
    "votes10.to_csv(\"csv-clean/votes10.csv\",index_label=[\"CandidateID\",\"County\"])"
   ],
   "outputs": [],
   "metadata": {}
  },
  {
   "cell_type": "markdown",
   "source": [
    "# Cleaning 2014 Results"
   ],
   "metadata": {}
  },
  {
   "cell_type": "code",
   "execution_count": 63,
   "source": [
    "file14 = \"csv-origins/GE2014_byCounty.csv\"\n",
    "ge14 = pd.read_csv(file14)"
   ],
   "outputs": [],
   "metadata": {}
  },
  {
   "cell_type": "code",
   "execution_count": 64,
   "source": [
    "#start the same as with 2010\n",
    "k14, n14 = ge14.keys(), ge14.size"
   ],
   "outputs": [],
   "metadata": {}
  },
  {
   "cell_type": "code",
   "execution_count": 65,
   "source": [
    "valno14 = dict.fromkeys(k14)\n",
    "for k in k14:\n",
    "    valno14[k] = getattr(ge14,k).value_counts()"
   ],
   "outputs": [],
   "metadata": {}
  },
  {
   "cell_type": "code",
   "execution_count": 66,
   "source": [
    "#drop the same as in 2010, also new column ID\n",
    "dropvar14 = dropvar10 + ['ID']"
   ],
   "outputs": [],
   "metadata": {}
  },
  {
   "cell_type": "code",
   "execution_count": 67,
   "source": [
    "ge14.drop(columns=dropvar14,inplace=True)"
   ],
   "outputs": [],
   "metadata": {}
  },
  {
   "cell_type": "code",
   "execution_count": 92,
   "source": [
    "ge14.loc[[\" - YES\" in x for x in ge14[\"CanLastName\"]], \"PartyName\"] = \"NON-PARTISAN\"\n",
    "ge14.loc[[\" - NO\" in x for x in ge14[\"CanLastName\"]], \"PartyName\"] = \"NON-PARTISAN\""
   ],
   "outputs": [],
   "metadata": {}
  },
  {
   "cell_type": "code",
   "execution_count": 113,
   "source": [
    "ge14.loc[(ge14.BallotGroup == \"1A\").values,\"CanFirstName\"] = \"AMENDMENT\"\n",
    "ge14.loc[(ge14.BallotGroup == \"1A\").values,\"PartyName\"] = \"NON-PARTISAN\""
   ],
   "outputs": [],
   "metadata": {}
  },
  {
   "cell_type": "code",
   "execution_count": 120,
   "source": [
    "ge14.loc[(ge14.BallotGroup == \"2A\").values,\"CanFirstName\"] = \"PROPOSITION\"\n",
    "ge14.loc[(ge14.BallotGroup == \"2A\").values,\"PartyName\"] = \"NON-PARTISAN\""
   ],
   "outputs": [],
   "metadata": {}
  },
  {
   "cell_type": "code",
   "execution_count": 139,
   "source": [
    "nulloc14 = ge14.isnull().values\n",
    "nansdf14 = ge14[nulloc14]\n",
    "nancandlist14 = nansdf14[['CanFirstName','CanLastName','OfficeName']].drop_duplicates(subset=\"CanLastName\")\n",
    "nancandlist14 = nancandlist14.sort_values(by=\"OfficeName\")\n",
    "nancandlist14 = nancandlist14.values"
   ],
   "outputs": [],
   "metadata": {}
  },
  {
   "cell_type": "code",
   "execution_count": 140,
   "source": [
    "namelist14 = []\n",
    "for l in nancandlist14:\n",
    "    namelist14.append(\" \".join(l))"
   ],
   "outputs": [],
   "metadata": {}
  },
  {
   "cell_type": "code",
   "execution_count": 141,
   "source": [
    "with open(\"nancandlist14.txt\", 'w') as output:\n",
    "    for row in namelist14:\n",
    "        output.write(str(row) + '\\n')"
   ],
   "outputs": [],
   "metadata": {}
  },
  {
   "cell_type": "code",
   "execution_count": 142,
   "source": [
    "write_ins14 = list(nansdf14[\"CanLastName\"].drop_duplicates().values)\n",
    "ge14[[x in write_ins14 for x in ge14.CanLastName]] = ge14[[x in write_ins14 for x in ge14.CanLastName]].replace(nans,\"WRITE IN\")"
   ],
   "outputs": [],
   "metadata": {}
  },
  {
   "cell_type": "markdown",
   "source": [
    "## Instead of making one giant multiindex, I thought it made sense to split the dataset into three tables to take advantage of primary and foreign keys.\n",
    "## Frame \"ge14\" will split into \"candidates14\", \"ballotgroups14\", and \"votes14\"\n",
    "### Frame \"ballotgroup14\" contains a new column, \"NumberRunning\", counting how many candidates there are for each office."
   ],
   "metadata": {}
  },
  {
   "cell_type": "code",
   "execution_count": 143,
   "source": [
    "candidates14 = ge14[[\"CandidateID\",\"CanFirstName\", \"CanLastName\",\"PartyName\",\"OfficeName\"]].copy()\n",
    "candidates14.drop_duplicates(inplace=True,subset=\"CandidateID\")\n",
    "candidates14.set_index(candidates14.CandidateID,inplace=True)\n",
    "candidates14.drop(columns=\"CandidateID\",inplace=True)\n",
    "candidates14.sort_values(by=\"CandidateID\")"
   ],
   "outputs": [
    {
     "output_type": "execute_result",
     "data": {
      "text/html": [
       "<div>\n",
       "<style scoped>\n",
       "    .dataframe tbody tr th:only-of-type {\n",
       "        vertical-align: middle;\n",
       "    }\n",
       "\n",
       "    .dataframe tbody tr th {\n",
       "        vertical-align: top;\n",
       "    }\n",
       "\n",
       "    .dataframe thead th {\n",
       "        text-align: right;\n",
       "    }\n",
       "</style>\n",
       "<table border=\"1\" class=\"dataframe\">\n",
       "  <thead>\n",
       "    <tr style=\"text-align: right;\">\n",
       "      <th></th>\n",
       "      <th>CanFirstName</th>\n",
       "      <th>CanLastName</th>\n",
       "      <th>PartyName</th>\n",
       "      <th>OfficeName</th>\n",
       "    </tr>\n",
       "    <tr>\n",
       "      <th>CandidateID</th>\n",
       "      <th></th>\n",
       "      <th></th>\n",
       "      <th></th>\n",
       "      <th></th>\n",
       "    </tr>\n",
       "  </thead>\n",
       "  <tbody>\n",
       "    <tr>\n",
       "      <th>19443</th>\n",
       "      <td>CHAPIN</td>\n",
       "      <td>ROSE</td>\n",
       "      <td>REPUBLICAN</td>\n",
       "      <td>51ST SENATE</td>\n",
       "    </tr>\n",
       "    <tr>\n",
       "      <th>19444</th>\n",
       "      <td>CHRIS E.</td>\n",
       "      <td>REIF</td>\n",
       "      <td>REPUBLICAN</td>\n",
       "      <td>7TH CIRCUIT - MITCHELL VACANCY</td>\n",
       "    </tr>\n",
       "    <tr>\n",
       "      <th>19445</th>\n",
       "      <td>MIKE</td>\n",
       "      <td>ATTERBERRY</td>\n",
       "      <td>REPUBLICAN</td>\n",
       "      <td>8TH CIRCUIT - POPE  VACANCY</td>\n",
       "    </tr>\n",
       "    <tr>\n",
       "      <th>19446</th>\n",
       "      <td>THOMAS B.</td>\n",
       "      <td>EWING</td>\n",
       "      <td>DEMOCRATIC</td>\n",
       "      <td>9TH CIRCUIT - DANNER  VACANCY</td>\n",
       "    </tr>\n",
       "    <tr>\n",
       "      <th>19447</th>\n",
       "      <td>DAVE</td>\n",
       "      <td>CARLSON</td>\n",
       "      <td>REPUBLICAN</td>\n",
       "      <td>12TH CIRCUIT -  1ST SUBCIRCUIT - A VACANCY</td>\n",
       "    </tr>\n",
       "    <tr>\n",
       "      <th>...</th>\n",
       "      <td>...</td>\n",
       "      <td>...</td>\n",
       "      <td>...</td>\n",
       "      <td>...</td>\n",
       "    </tr>\n",
       "    <tr>\n",
       "      <th>20242</th>\n",
       "      <td>HILAIRE F.</td>\n",
       "      <td>SHIOURA</td>\n",
       "      <td>WRITE IN</td>\n",
       "      <td>UNITED STATES SENATOR</td>\n",
       "    </tr>\n",
       "    <tr>\n",
       "      <th>20243</th>\n",
       "      <td>PHIL</td>\n",
       "      <td>COLLINS</td>\n",
       "      <td>WRITE IN</td>\n",
       "      <td>9TH CONGRESS</td>\n",
       "    </tr>\n",
       "    <tr>\n",
       "      <th>20244</th>\n",
       "      <td>TOM</td>\n",
       "      <td>DEMAS</td>\n",
       "      <td>WRITE IN</td>\n",
       "      <td>78TH REPRESENTATIVE</td>\n",
       "    </tr>\n",
       "    <tr>\n",
       "      <th>20245</th>\n",
       "      <td>CONSTANT \"CONNOR\"</td>\n",
       "      <td>VLAKANCIC</td>\n",
       "      <td>WRITE IN</td>\n",
       "      <td>11TH CONGRESS</td>\n",
       "    </tr>\n",
       "    <tr>\n",
       "      <th>20246</th>\n",
       "      <td>RUSS \"ODIN\"</td>\n",
       "      <td>HARRISON</td>\n",
       "      <td>WRITE IN</td>\n",
       "      <td>97TH REPRESENTATIVE</td>\n",
       "    </tr>\n",
       "  </tbody>\n",
       "</table>\n",
       "<p>697 rows × 4 columns</p>\n",
       "</div>"
      ],
      "text/plain": [
       "                  CanFirstName CanLastName   PartyName  \\\n",
       "CandidateID                                              \n",
       "19443                   CHAPIN        ROSE  REPUBLICAN   \n",
       "19444                 CHRIS E.        REIF  REPUBLICAN   \n",
       "19445                     MIKE  ATTERBERRY  REPUBLICAN   \n",
       "19446                THOMAS B.       EWING  DEMOCRATIC   \n",
       "19447                     DAVE     CARLSON  REPUBLICAN   \n",
       "...                        ...         ...         ...   \n",
       "20242               HILAIRE F.     SHIOURA    WRITE IN   \n",
       "20243                     PHIL     COLLINS    WRITE IN   \n",
       "20244                      TOM       DEMAS    WRITE IN   \n",
       "20245        CONSTANT \"CONNOR\"   VLAKANCIC    WRITE IN   \n",
       "20246              RUSS \"ODIN\"    HARRISON    WRITE IN   \n",
       "\n",
       "                                             OfficeName  \n",
       "CandidateID                                              \n",
       "19443                                       51ST SENATE  \n",
       "19444                    7TH CIRCUIT - MITCHELL VACANCY  \n",
       "19445                       8TH CIRCUIT - POPE  VACANCY  \n",
       "19446                     9TH CIRCUIT - DANNER  VACANCY  \n",
       "19447        12TH CIRCUIT -  1ST SUBCIRCUIT - A VACANCY  \n",
       "...                                                 ...  \n",
       "20242                             UNITED STATES SENATOR  \n",
       "20243                                      9TH CONGRESS  \n",
       "20244                               78TH REPRESENTATIVE  \n",
       "20245                                     11TH CONGRESS  \n",
       "20246                               97TH REPRESENTATIVE  \n",
       "\n",
       "[697 rows x 4 columns]"
      ]
     },
     "metadata": {},
     "execution_count": 143
    }
   ],
   "metadata": {}
  },
  {
   "cell_type": "code",
   "execution_count": 145,
   "source": [
    "runningno14 = ge14.OfficeName.value_counts()\n",
    "rndict14 = dict(runningno14)\n",
    "rnlist14 = []\n",
    "for o in ge14.OfficeName:\n",
    "    rnlist14.append(rndict14[o])\n",
    "NumberRunning14 = pd.Series(rnlist14,name=\"NumberRunning\")"
   ],
   "outputs": [],
   "metadata": {}
  },
  {
   "cell_type": "code",
   "execution_count": 146,
   "source": [
    "bg14 = ge14[[\"OfficeName\",\"BallotGroup\"]].copy()\n",
    "bg14 = bg14.merge(NumberRunning14,left_index=True, right_index=True)\n",
    "bg14.drop_duplicates(subset=\"OfficeName\",inplace=True,ignore_index=True)"
   ],
   "outputs": [],
   "metadata": {}
  },
  {
   "cell_type": "code",
   "execution_count": 148,
   "source": [
    "bg14count = bg14.groupby(\"BallotGroup\")\n",
    "bg14dict = dict.fromkeys(bg14.BallotGroup.drop_duplicates())\n",
    "\n",
    "for bg in bg14.BallotGroup.drop_duplicates():\n",
    "    nrsum = bg14count.get_group(bg).NumberRunning.sum()\n",
    "    bg14dict[bg] = nrsum\n",
    "\n",
    "bg14list = []\n",
    "for bg in bg14.BallotGroup:\n",
    "    bg14list.append(bg14dict[bg])\n",
    "bg14ser = pd.Series(bg14list, index=bg14.index, name=\"BallotGrpCount\")"
   ],
   "outputs": [],
   "metadata": {}
  },
  {
   "cell_type": "code",
   "execution_count": 149,
   "source": [
    "bg14 = bg14.merge(bg14ser,left_index=True,right_index=True)"
   ],
   "outputs": [],
   "metadata": {}
  },
  {
   "cell_type": "code",
   "execution_count": 150,
   "source": [
    "indx = pd.MultiIndex.from_frame(bg14[[\"BallotGroup\",\"OfficeName\"]])\n",
    "bg14.set_index(indx,inplace=True)"
   ],
   "outputs": [],
   "metadata": {}
  },
  {
   "cell_type": "code",
   "execution_count": 151,
   "source": [
    "bg14.sort_values(by=[\"BallotGrpCount\",\"NumberRunning\"], ascending=[False,False],inplace=True)"
   ],
   "outputs": [],
   "metadata": {}
  },
  {
   "cell_type": "code",
   "execution_count": 152,
   "source": [
    "bg14.drop(columns=[\"BallotGroup\",\"OfficeName\",\"BallotGrpCount\"],inplace=True)"
   ],
   "outputs": [],
   "metadata": {}
  },
  {
   "cell_type": "code",
   "execution_count": 153,
   "source": [
    "ballotgroups14 = bg14.copy()"
   ],
   "outputs": [],
   "metadata": {}
  },
  {
   "cell_type": "code",
   "execution_count": 154,
   "source": [
    "votes14 = ge14[[\"CandidateID\",\"County\",\"Votes\"]].copy()\n",
    "indx2 = pd.MultiIndex.from_frame(ge14[[\"CandidateID\",\"County\"]])\n",
    "votes14.set_index(indx2,inplace=True)\n",
    "votes14.drop(columns=[\"CandidateID\",\"County\"],inplace=True)\n",
    "votes14.sort_values(by=['CandidateID','Votes'],ascending=[True,False],inplace=True)"
   ],
   "outputs": [],
   "metadata": {}
  },
  {
   "cell_type": "code",
   "execution_count": 155,
   "source": [
    "candidates14.head()"
   ],
   "outputs": [
    {
     "output_type": "execute_result",
     "data": {
      "text/html": [
       "<div>\n",
       "<style scoped>\n",
       "    .dataframe tbody tr th:only-of-type {\n",
       "        vertical-align: middle;\n",
       "    }\n",
       "\n",
       "    .dataframe tbody tr th {\n",
       "        vertical-align: top;\n",
       "    }\n",
       "\n",
       "    .dataframe thead th {\n",
       "        text-align: right;\n",
       "    }\n",
       "</style>\n",
       "<table border=\"1\" class=\"dataframe\">\n",
       "  <thead>\n",
       "    <tr style=\"text-align: right;\">\n",
       "      <th></th>\n",
       "      <th>CanFirstName</th>\n",
       "      <th>CanLastName</th>\n",
       "      <th>PartyName</th>\n",
       "      <th>OfficeName</th>\n",
       "    </tr>\n",
       "    <tr>\n",
       "      <th>CandidateID</th>\n",
       "      <th></th>\n",
       "      <th></th>\n",
       "      <th></th>\n",
       "      <th></th>\n",
       "    </tr>\n",
       "  </thead>\n",
       "  <tbody>\n",
       "    <tr>\n",
       "      <th>19443</th>\n",
       "      <td>CHAPIN</td>\n",
       "      <td>ROSE</td>\n",
       "      <td>REPUBLICAN</td>\n",
       "      <td>51ST SENATE</td>\n",
       "    </tr>\n",
       "    <tr>\n",
       "      <th>19444</th>\n",
       "      <td>CHRIS E.</td>\n",
       "      <td>REIF</td>\n",
       "      <td>REPUBLICAN</td>\n",
       "      <td>7TH CIRCUIT - MITCHELL VACANCY</td>\n",
       "    </tr>\n",
       "    <tr>\n",
       "      <th>19445</th>\n",
       "      <td>MIKE</td>\n",
       "      <td>ATTERBERRY</td>\n",
       "      <td>REPUBLICAN</td>\n",
       "      <td>8TH CIRCUIT - POPE  VACANCY</td>\n",
       "    </tr>\n",
       "    <tr>\n",
       "      <th>19446</th>\n",
       "      <td>THOMAS B.</td>\n",
       "      <td>EWING</td>\n",
       "      <td>DEMOCRATIC</td>\n",
       "      <td>9TH CIRCUIT - DANNER  VACANCY</td>\n",
       "    </tr>\n",
       "    <tr>\n",
       "      <th>19447</th>\n",
       "      <td>DAVE</td>\n",
       "      <td>CARLSON</td>\n",
       "      <td>REPUBLICAN</td>\n",
       "      <td>12TH CIRCUIT -  1ST SUBCIRCUIT - A VACANCY</td>\n",
       "    </tr>\n",
       "  </tbody>\n",
       "</table>\n",
       "</div>"
      ],
      "text/plain": [
       "            CanFirstName CanLastName   PartyName  \\\n",
       "CandidateID                                        \n",
       "19443             CHAPIN        ROSE  REPUBLICAN   \n",
       "19444           CHRIS E.        REIF  REPUBLICAN   \n",
       "19445               MIKE  ATTERBERRY  REPUBLICAN   \n",
       "19446          THOMAS B.       EWING  DEMOCRATIC   \n",
       "19447               DAVE     CARLSON  REPUBLICAN   \n",
       "\n",
       "                                             OfficeName  \n",
       "CandidateID                                              \n",
       "19443                                       51ST SENATE  \n",
       "19444                    7TH CIRCUIT - MITCHELL VACANCY  \n",
       "19445                       8TH CIRCUIT - POPE  VACANCY  \n",
       "19446                     9TH CIRCUIT - DANNER  VACANCY  \n",
       "19447        12TH CIRCUIT -  1ST SUBCIRCUIT - A VACANCY  "
      ]
     },
     "metadata": {},
     "execution_count": 155
    }
   ],
   "metadata": {}
  },
  {
   "cell_type": "code",
   "execution_count": 156,
   "source": [
    "ballotgroups14.head()"
   ],
   "outputs": [
    {
     "output_type": "execute_result",
     "data": {
      "text/html": [
       "<div>\n",
       "<style scoped>\n",
       "    .dataframe tbody tr th:only-of-type {\n",
       "        vertical-align: middle;\n",
       "    }\n",
       "\n",
       "    .dataframe tbody tr th {\n",
       "        vertical-align: top;\n",
       "    }\n",
       "\n",
       "    .dataframe thead th {\n",
       "        text-align: right;\n",
       "    }\n",
       "</style>\n",
       "<table border=\"1\" class=\"dataframe\">\n",
       "  <thead>\n",
       "    <tr style=\"text-align: right;\">\n",
       "      <th></th>\n",
       "      <th></th>\n",
       "      <th>NumberRunning</th>\n",
       "    </tr>\n",
       "    <tr>\n",
       "      <th>BallotGroup</th>\n",
       "      <th>OfficeName</th>\n",
       "      <th></th>\n",
       "    </tr>\n",
       "  </thead>\n",
       "  <tbody>\n",
       "    <tr>\n",
       "      <th rowspan=\"5\" valign=\"top\">B</th>\n",
       "      <th>GOVERNOR AND LIEUTENANT GOVERNOR</th>\n",
       "      <td>761</td>\n",
       "    </tr>\n",
       "    <tr>\n",
       "      <th>COMPTROLLER</th>\n",
       "      <td>403</td>\n",
       "    </tr>\n",
       "    <tr>\n",
       "      <th>SECRETARY OF STATE</th>\n",
       "      <td>334</td>\n",
       "    </tr>\n",
       "    <tr>\n",
       "      <th>ATTORNEY GENERAL</th>\n",
       "      <td>306</td>\n",
       "    </tr>\n",
       "    <tr>\n",
       "      <th>TREASURER</th>\n",
       "      <td>306</td>\n",
       "    </tr>\n",
       "  </tbody>\n",
       "</table>\n",
       "</div>"
      ],
      "text/plain": [
       "                                              NumberRunning\n",
       "BallotGroup OfficeName                                     \n",
       "B           GOVERNOR AND LIEUTENANT GOVERNOR            761\n",
       "            COMPTROLLER                                 403\n",
       "            SECRETARY OF STATE                          334\n",
       "            ATTORNEY GENERAL                            306\n",
       "            TREASURER                                   306"
      ]
     },
     "metadata": {},
     "execution_count": 156
    }
   ],
   "metadata": {}
  },
  {
   "cell_type": "code",
   "execution_count": 157,
   "source": [
    "votes14.head()"
   ],
   "outputs": [
    {
     "output_type": "execute_result",
     "data": {
      "text/html": [
       "<div>\n",
       "<style scoped>\n",
       "    .dataframe tbody tr th:only-of-type {\n",
       "        vertical-align: middle;\n",
       "    }\n",
       "\n",
       "    .dataframe tbody tr th {\n",
       "        vertical-align: top;\n",
       "    }\n",
       "\n",
       "    .dataframe thead th {\n",
       "        text-align: right;\n",
       "    }\n",
       "</style>\n",
       "<table border=\"1\" class=\"dataframe\">\n",
       "  <thead>\n",
       "    <tr style=\"text-align: right;\">\n",
       "      <th></th>\n",
       "      <th></th>\n",
       "      <th>Votes</th>\n",
       "    </tr>\n",
       "    <tr>\n",
       "      <th>CandidateID</th>\n",
       "      <th>County</th>\n",
       "      <th></th>\n",
       "    </tr>\n",
       "  </thead>\n",
       "  <tbody>\n",
       "    <tr>\n",
       "      <th rowspan=\"5\" valign=\"top\">19443</th>\n",
       "      <th>MACON</th>\n",
       "      <td>16658</td>\n",
       "    </tr>\n",
       "    <tr>\n",
       "      <th>CHAMPAIGN</th>\n",
       "      <td>15501</td>\n",
       "    </tr>\n",
       "    <tr>\n",
       "      <th>SHELBY</th>\n",
       "      <td>7116</td>\n",
       "    </tr>\n",
       "    <tr>\n",
       "      <th>PIATT</th>\n",
       "      <td>6443</td>\n",
       "    </tr>\n",
       "    <tr>\n",
       "      <th>DOUGLAS</th>\n",
       "      <td>5623</td>\n",
       "    </tr>\n",
       "  </tbody>\n",
       "</table>\n",
       "</div>"
      ],
      "text/plain": [
       "                       Votes\n",
       "CandidateID County          \n",
       "19443       MACON      16658\n",
       "            CHAMPAIGN  15501\n",
       "            SHELBY      7116\n",
       "            PIATT       6443\n",
       "            DOUGLAS     5623"
      ]
     },
     "metadata": {},
     "execution_count": 157
    }
   ],
   "metadata": {}
  },
  {
   "cell_type": "markdown",
   "source": [
    "# Export tables to csvs"
   ],
   "metadata": {}
  },
  {
   "cell_type": "code",
   "execution_count": 158,
   "source": [
    "candidates14.to_csv(\"csv-clean/candidates14.csv\",index_label=\"CandidateID\")\n",
    "ballotgroups14.to_csv(\"csv-clean/ballotgroups14.csv\",index_label=[\"BallotGroup\",\"OfficeName\"])\n",
    "votes14.to_csv(\"csv-clean/votes14.csv\",index_label=[\"CandidateID\",\"County\"])"
   ],
   "outputs": [],
   "metadata": {}
  },
  {
   "cell_type": "markdown",
   "source": [
    "# Will continue in the same way with GE18"
   ],
   "metadata": {}
  },
  {
   "cell_type": "code",
   "execution_count": null,
   "source": [
    "file18 = \"csv-origins/GE2018_byCounty.csv\"\n",
    "ge18 = pd.read_csv(file18)"
   ],
   "outputs": [],
   "metadata": {}
  },
  {
   "cell_type": "code",
   "execution_count": null,
   "source": [
    "k18, n18 = ge18.keys(), ge18.size"
   ],
   "outputs": [],
   "metadata": {}
  },
  {
   "cell_type": "code",
   "execution_count": null,
   "source": [
    "valno18 = dict.fromkeys(k18)\n",
    "for k in k18:\n",
    "    valno18[k] = getattr(ge18,k).value_counts()"
   ],
   "outputs": [],
   "metadata": {}
  },
  {
   "cell_type": "code",
   "execution_count": null,
   "source": [
    "dropvar18 = dropvar14"
   ],
   "outputs": [],
   "metadata": {}
  },
  {
   "cell_type": "code",
   "execution_count": null,
   "source": [
    "ge18.drop(columns=dropvar18,inplace=True)"
   ],
   "outputs": [],
   "metadata": {}
  },
  {
   "cell_type": "code",
   "execution_count": null,
   "source": [
    "candidates18 = ge18[[\"CandidateID\",\"CanFirstName\", \"CanLastName\",\"PartyName\",\"OfficeName\"]].copy()\n",
    "candidates18.drop_duplicates(inplace=True,subset=\"CandidateID\")\n",
    "candidates18.set_index(candidates18.CandidateID,inplace=True)\n",
    "candidates18.drop(columns=\"CandidateID\",inplace=True)\n",
    "candidates18.sort_values(by=\"CandidateID\")"
   ],
   "outputs": [],
   "metadata": {}
  },
  {
   "cell_type": "code",
   "execution_count": null,
   "source": [
    "nulloc18 = candidates18.PartyName.isnull().values\n",
    "nansdf18 = candidates18[nulloc18]\n",
    "nans = nansdf18.PartyName.values[0]"
   ],
   "outputs": [],
   "metadata": {}
  },
  {
   "cell_type": "code",
   "execution_count": null,
   "source": [
    "candidates18.PartyName.replace(nans,\"NON-PARTISAN\",inplace=True)"
   ],
   "outputs": [],
   "metadata": {}
  },
  {
   "cell_type": "code",
   "execution_count": null,
   "source": [
    "runningno18 = ge18.OfficeName.value_counts()\n",
    "rndict18 = dict(runningno18)\n",
    "rnlist18 = []\n",
    "for o in ge18.OfficeName:\n",
    "    rnlist18.append(rndict18[o])\n",
    "NumberRunning18 = pd.Series(rnlist18,name=\"NumberRunning\")"
   ],
   "outputs": [],
   "metadata": {}
  },
  {
   "cell_type": "code",
   "execution_count": null,
   "source": [
    "bg18 = ge18[[\"OfficeName\",\"BallotGroup\"]].copy()\n",
    "bg18 = bg18.merge(NumberRunning18,left_index=True, right_index=True)\n",
    "bg18.drop_duplicates(subset=\"OfficeName\",inplace=True,ignore_index=True)"
   ],
   "outputs": [],
   "metadata": {}
  },
  {
   "cell_type": "code",
   "execution_count": null,
   "source": [
    "bg18count = bg18.groupby(\"BallotGroup\")\n",
    "bg18dict = dict.fromkeys(bg18.BallotGroup.drop_duplicates())"
   ],
   "outputs": [],
   "metadata": {}
  },
  {
   "cell_type": "code",
   "execution_count": null,
   "source": [
    "for bg in bg18.BallotGroup.drop_duplicates():\n",
    "    nrsum = bg18count.get_group(bg).NumberRunning.sum()\n",
    "    bg18dict[bg] = nrsum"
   ],
   "outputs": [],
   "metadata": {}
  },
  {
   "cell_type": "code",
   "execution_count": null,
   "source": [
    "bg18list = []\n",
    "for bg in bg18.BallotGroup:\n",
    "    bg18list.append(bg18dict[bg])\n",
    "bg18ser = pd.Series(bg18list, index=bg18.index, name=\"BallotGrpCount\")"
   ],
   "outputs": [],
   "metadata": {}
  },
  {
   "cell_type": "code",
   "execution_count": null,
   "source": [
    "bg18 = bg18.merge(bg18ser,left_index=True,right_index=True)"
   ],
   "outputs": [],
   "metadata": {}
  },
  {
   "cell_type": "code",
   "execution_count": null,
   "source": [
    "indx = pd.MultiIndex.from_frame(bg18[[\"BallotGroup\",\"OfficeName\"]])\n",
    "bg18.set_index(indx,inplace=True)"
   ],
   "outputs": [],
   "metadata": {}
  },
  {
   "cell_type": "code",
   "execution_count": null,
   "source": [
    "bg18.sort_values(by=[\"BallotGrpCount\",\"NumberRunning\"], ascending=[False,False],inplace=True)"
   ],
   "outputs": [],
   "metadata": {}
  },
  {
   "cell_type": "code",
   "execution_count": null,
   "source": [
    "bg18.drop(columns=[\"BallotGroup\",\"OfficeName\",\"BallotGrpCount\"],inplace=True)"
   ],
   "outputs": [],
   "metadata": {}
  },
  {
   "cell_type": "code",
   "execution_count": null,
   "source": [
    "ballotgroups18 = bg18.copy()"
   ],
   "outputs": [],
   "metadata": {}
  },
  {
   "cell_type": "code",
   "execution_count": null,
   "source": [
    "votes18 = ge18[[\"CandidateID\",\"County\",\"Votes\"]].copy()\n",
    "indx2 = pd.MultiIndex.from_frame(ge18[[\"CandidateID\",\"County\"]])\n",
    "votes18.set_index(indx2,inplace=True)\n",
    "votes18.drop(columns=[\"CandidateID\",\"County\"],inplace=True)\n",
    "votes18.sort_values(by=['CandidateID','Votes'],ascending=[True,False],inplace=True)"
   ],
   "outputs": [],
   "metadata": {}
  },
  {
   "cell_type": "code",
   "execution_count": null,
   "source": [
    "candidates18.head()"
   ],
   "outputs": [],
   "metadata": {}
  },
  {
   "cell_type": "code",
   "execution_count": null,
   "source": [
    "ballotgroups18.head()"
   ],
   "outputs": [],
   "metadata": {}
  },
  {
   "cell_type": "code",
   "execution_count": null,
   "source": [
    "votes18.head()"
   ],
   "outputs": [],
   "metadata": {}
  },
  {
   "cell_type": "markdown",
   "source": [
    "\n",
    "# Export tables to csvs\n"
   ],
   "metadata": {}
  },
  {
   "cell_type": "code",
   "execution_count": null,
   "source": [
    "candidates18.to_csv(\"csv-clean/candidates18.csv\",index_label=\"CandidateID\")\n",
    "ballotgroups18.to_csv(\"csv-clean/ballotgroups18.csv\",index_label=[\"BallotGroup\",\"OfficeName\"])\n",
    "votes18.to_csv(\"csv-clean/votes18.csv\",index_label=[\"CandidateID\",\"County\"])"
   ],
   "outputs": [],
   "metadata": {}
  }
 ],
 "metadata": {
  "orig_nbformat": 4,
  "language_info": {
   "name": "python",
   "version": "3.8.8",
   "mimetype": "text/x-python",
   "codemirror_mode": {
    "name": "ipython",
    "version": 3
   },
   "pygments_lexer": "ipython3",
   "nbconvert_exporter": "python",
   "file_extension": ".py"
  },
  "kernelspec": {
   "name": "python3",
   "display_name": "Python 3.8.8 64-bit ('base': conda)"
  },
  "interpreter": {
   "hash": "3056ff0f1845929a8989f1bded2e103b0e50e44d85bf2567aa5138af1ce355cd"
  }
 },
 "nbformat": 4,
 "nbformat_minor": 2
}